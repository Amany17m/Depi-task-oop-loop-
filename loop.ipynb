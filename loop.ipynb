from countries import countries
for country in countries:
    land__countries= [country for country in countries if "land" in country]
print("countries contaning 'land':")
for country in land__countries:
    print(country)